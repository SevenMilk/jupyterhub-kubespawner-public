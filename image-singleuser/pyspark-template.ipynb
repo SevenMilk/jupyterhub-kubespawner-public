{
 "cells": [
  {
   "cell_type": "code",
   "execution_count": null,
   "metadata": {},
   "outputs": [],
   "source": [
    "%%configure -f \n",
    "{\n",
    "    \"kind\": \"pyspark\",\n",
    "    \"name\": \"jupyter.py\",\n",
    "    \"driverMemory\": \"1G\",\n",
    "    \"driverCores\": 1,\n",
    "    \"executorCores\": 1,\n",
    "    \"executorMemory\": \"4G\",\n",
    "    \"numExecutors\": 5,\n",
    "    \"heartbeatTimeoutInSecond\": 120,\n",
    "    \"queue\": \"default\",\n",
    "    \"archives\": [\"hdfs://mycluster/user/eric/Spark_Archives/zip/base_env.zip#py37\"],\n",
    "    \"conf\": {\n",
    "        \"spark.default.parallelism\": \"60\",\n",
    "        \"spark.sql.shuffle.partitions\": \"200\",\n",
    "        \"spark.sql.auto.repartition\": \"true\",\n",
    "        \"spark.yarn.appMasterEnv.PYSPARK_PYTHON\": \"py37/bin/python3\"\n",
    "     }\n",
    "}"
   ]
  },
  {
   "cell_type": "code",
   "execution_count": null,
   "metadata": {},
   "outputs": [],
   "source": [
    "from pyspark.sql.types import *\n",
    "from pyspark.sql import functions as F\n",
    "from pyspark.sql import Window\n",
    "from datetime import timedelta, date, datetime"
   ]
  },
  {
   "cell_type": "code",
   "execution_count": null,
   "metadata": {},
   "outputs": [],
   "source": []
  }
 ],
 "metadata": {
  "kernelspec": {
   "display_name": "PySpark",
   "language": "python",
   "name": "pysparkkernel"
  },
  "language_info": {
   "codemirror_mode": {
    "name": "python",
    "version": 3
   },
   "file_extension": ".py",
   "mimetype": "text/x-python",
   "name": "pyspark",
   "pygments_lexer": "python3"
  }
 },
 "nbformat": 4,
 "nbformat_minor": 5
}
